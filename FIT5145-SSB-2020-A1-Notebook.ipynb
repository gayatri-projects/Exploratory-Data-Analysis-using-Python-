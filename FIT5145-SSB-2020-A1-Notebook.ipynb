{
 "cells": [
  {
   "cell_type": "markdown",
   "metadata": {},
   "source": [
    "# FIT5145 - Introduction to Data Science\n",
    "## Summer Semester B 2020\n",
    "## Assignment 1\n",
    "\n",
    "This assesment aims to guide you in exploring a data set through the process of exploratory data analysis (EDA), primarily through visualisation of that data using various data science tools.\n",
    "\n",
    "You will need to draw on what you have learnt and will continue to learn, in class. You are also encouraged to seek out alternative information from reputable sources. If you use or are 'inspired' by any source code from one of these sources, you must reference this. \n",
    "\n",
    "**Learning outcomes**\n",
    "You will learn the following through completing this assessment:\n",
    "1. Read in files and extract data from them into a data frame.\n",
    "2. Wrangle and process data.\n",
    "3. Use graphical and non-graphical tools to perform EDA.\n",
    "4. Use basic tools for managing and processing big data.\n",
    "5. Determine information\n",
    "6. Communicate your findings in your report.\n",
    "\n",
    "**Submission details**\n",
    "The Python code as a Jupyter notebook file (.ipyn).\n",
    "A PDF print of your Jupyter notebook containing the code, figures and answers to all the questions. Hint: Wrap your code using the Jupyter magics or pythonic standard. \n",
    "\n",
    "Please note: Marks will be assigned based on their correctness and clarity of your answers and code. The PDF should be concise and not take up an excessive number of pages. You should not print the data frames in your PDF (comment out the code that prints those).\n",
    "\n",
    "Zip file submissions attract a penalty of 10%. Submit two separate files requested above together. You will need to submit your PDF to Turnitin. \n",
    "\n",
    "## Task\n",
    "In this course, you have learned about the definitions, skill sets, tools, applications and knowledge domains attributed to data science. However, these are extremely diverse and make data science challenging to define precisely. By completing the EDA, we hope you can get a clearer understanding of how a career in data science compares to others in the IT industry.\n",
    "\n",
    "**The Data**<br>\n",
    "\n",
    "In late 2018, a survey was conducted for a large Australian collective of IT professionals. The survey, which received 7000 responses, aimed to gather information about IT professionals. The dataset was made public, and many insights have emerged since. We have taken the data set and heavily modified the data. Both to clean the data, a significant component of data science and to ensure original assignment submission.\n",
    "\n",
    "The data set is called *assignment1_dataset.csv*, and contains respondents answers to survey questions. Each column contains the answers of one respondent to a specific question. Do not alter this dataset.\n",
    "\n",
    "**How to complete this assesment**<br>\n",
    "\n",
    "The following notebook has been constructed to provide you with directions (<span style=\"color: blue\">blue</span>), questions (<span style=\"color: orange\">yellow</span>) and background information. Responses to both blue directions and yellow questions are assessed.\n",
    "\n",
    "Underneath the blue direction boxes, there are empty cells with the comment <span style=\"color: green\">#Your code</span>. Place your code in these. You should not need to but may insert new cells under this cell if required.\n",
    "\n",
    "To respond to questions you should double click on the cell beneath each question with the comment <span style=\"color: green\">Answer</span>. Write your answer under these. \n",
    "\n",
    "Please note, your commenting and adherence to Python code standards will be marked. This notebook has been designed to give you a template for the layout of future notebooks you might create. If you require further information on Python standards, please visit https://www.python.org/dev/peps/pep-0008/ \n",
    "\n",
    "Do not change any of the directions or answer boxes, the order of questions, order of code entry cells or the name of the input files. "
   ]
  },
  {
   "cell_type": "markdown",
   "metadata": {
    "_cell_guid": "c82f465b-c452-4cfb-b9f3-df726ab7ad2b",
    "_uuid": "d39564daed3ef49aaf00b5582e23e354c4f32d2e"
   },
   "source": [
    "# Table of contents\n",
    "\n",
    "* [Student information](#StudentInformation)\n",
    "* [Load data](#StudentInformation)\n",
    "* [1. Demographic analysis](#demographics)\n",
    "   * [1.1. Age](#age)\n",
    "   * [1.2. Gender](#gender)\n",
    "   * [1.3. Country](#country)\n",
    "   * [1.4. Roles](#roles)\n",
    "* [2. Education](#education)\n",
    "    * [2.1. Formal education](#formal)\n",
    "* [3. Employment](#employment)\n",
    "    * [3.1. Employment status](#status)\n",
    "    * [3.2. Job satisfaction](#satisfaction)\n",
    "* [4. Salary](#salary)\n",
    "    * [4.1. Salary overview](#overview)\n",
    "    * [4.2. Salary by country](#countrysal)\n",
    "    * [4.3. Salary & gender](#gender_salary)\n",
    "    * [4.4. Salary & formal education](#education_salary)\n",
    "    * [4.5. Salary & employment sector](#sector_salary)\n",
    "* [5. Predicting salary](#pred)\n",
    "* [6. Tasks & tools](#tandt)\n",
    "    * [6.1. Data science - common tasks](#DS_tasks)\n",
    "    * [6.2. Data science - common tools](#DS_tools)\n",
    "* [6. Data quality assessment](#trash)\n"
   ]
  },
  {
   "cell_type": "markdown",
   "metadata": {},
   "source": [
    " <div class=\"alert alert-block alert-info\">\n",
    "    Enter your information in the following cell.\n",
    "    Please make sure you specify what version of python you are using as\n",
    "    your tutor may not be using the same version and will adjust your\n",
    "    code accordingly.  "
   ]
  },
  {
   "cell_type": "markdown",
   "metadata": {},
   "source": [
    "## Student Information\n",
    "<a id=\"StudentInformation\"></a>\n",
    "***\n",
    "\n",
    "Please enter your details here. \n",
    "#### Name: \n",
    "#### Student number: \n",
    "#### Tutorial number. :<span style=\"color: brown\">For example, P07</span>\n",
    "#### Tutor: \n",
    "#### Environment: <span style=\"color: brown\">Python *(what version of python you are using)* and *distribution (i.e. Anaconda 5.3.0 (64-bit))* </span>"
   ]
  },
  {
   "cell_type": "markdown",
   "metadata": {
    "_cell_guid": "06c9b38b-000e-4b8a-95f0-65a93bb332f2",
    "_uuid": "2bfa8ca86a226c9900a67a02236a072274bc0d18"
   },
   "source": [
    "## Load your libraries and files\n",
    "<a id=\"Load data\"></a>\n",
    "***\n"
   ]
  },
  {
   "cell_type": "markdown",
   "metadata": {},
   "source": [
    "This assesment will be conducted using pandas. You will also be required to create visualisations. We recommend Seaborn, which is more visually appealing than matplotlib. However, you may choose either. For further information on Seaborn visit https://seaborn.pydata.org/ <br>\n",
    "\n",
    "*Hint: Remember to comment on what each library does.* "
   ]
  },
  {
   "cell_type": "code",
   "execution_count": 17,
   "metadata": {
    "_cell_guid": "bf6d21b3-22d5-48e4-8a62-a50ef36bae42",
    "_kg_hide-input": true,
    "_kg_hide-output": false,
    "_uuid": "76567470049e7d7e878b76d72e81858f56bdbd2a",
    "scrolled": true
   },
   "outputs": [],
   "source": [
    "# Your code\n"
   ]
  },
  {
   "cell_type": "markdown",
   "metadata": {
    "_cell_guid": "06c9b38b-000e-4b8a-95f0-65a93bb332f2",
    "_uuid": "2bfa8ca86a226c9900a67a02236a072274bc0d18"
   },
   "source": [
    "## 1. Demographic Analysis\n",
    "<a id=\"demographics\"></a>\n",
    "***\n",
    "##### Who are the survey participants?\n",
    "\n",
    "Let's get a general understanding of the characteristics of the survey participants. Demographic overviews are a standard way to start an exploration of survey data. The types of participants can heavily affect survey responses.\n",
    "\n",
    "### 1.1 Age\n",
    "<a id=\"age\"></a>\n",
    "Visualisation is a quick and easy way to gain an overview of the data. One method is through a boxplot. Boxplots are a way to show the distribution of numerical data and display the five descriptive statistics: minimum, first quartile, median, third quartile, and maximum. Outliers should also be shown."
   ]
  },
  {
   "cell_type": "markdown",
   "metadata": {},
   "source": [
    " <div class=\"alert alert-block alert-info\">\n",
    "    1. Create a box plot showing the age of all the participants. <br>\n",
    "    Your plot must have labels for each axis, a title, numerical points\n",
    "    for the age axis and also show the outliers. "
   ]
  },
  {
   "cell_type": "code",
   "execution_count": 31,
   "metadata": {
    "scrolled": true
   },
   "outputs": [],
   "source": [
    "# Your code\n"
   ]
  },
  {
   "cell_type": "markdown",
   "metadata": {},
   "source": [
    " <div class=\"alert alert-block alert-info\">\n",
    "    2. Calculate the five descriptive statistics as shown on the boxplot, as well as the mean.<br>\n",
    "    Round your answer to the nearest whole number."
   ]
  },
  {
   "cell_type": "code",
   "execution_count": 35,
   "metadata": {},
   "outputs": [],
   "source": [
    "# Your code \n"
   ]
  },
  {
   "cell_type": "markdown",
   "metadata": {},
   "source": [
    "<span style=\"color: green\">**Answer**</span>\n"
   ]
  },
  {
   "cell_type": "markdown",
   "metadata": {},
   "source": [
    " <div class=\"alert alert-block alert-warning\">\n",
    "    3.i. Looking at the boxplot, what general conclusion can you make\n",
    "    about the age of the participants? You must explain your answer with reference to all five descriptive statistics. Simply listing will not suffice. You must discuss the conclusions drawn based on these descriptive statistics' relationship to each other. You must also make mention of the outliers if there are any.<br>\n",
    "    \n",
    "    \n",
    "   3.ii. Would the mode be greater or lower than the mean? Why?"
   ]
  },
  {
   "cell_type": "markdown",
   "metadata": {},
   "source": [
    "<span style=\"color: green\">**Answer i**</span><br>\n",
    "\n",
    "\n",
    "<span style=\"color: green\">**Answer ii**</span><br>\n",
    "\n"
   ]
  },
  {
   "cell_type": "markdown",
   "metadata": {},
   "source": [
    "  <div class=\"alert alert-block alert-info\">\n",
    "    4. Regardless of the errors that the data show, we are interested in working-age IT professionals, aged between 20 and 65.<br>\n",
    "    \n",
    "   Calculate how many respondents were under 20 or over 65?"
   ]
  },
  {
   "cell_type": "code",
   "execution_count": 29,
   "metadata": {},
   "outputs": [],
   "source": [
    "# Your code\n"
   ]
  },
  {
   "cell_type": "markdown",
   "metadata": {},
   "source": [
    "<span style=\"color: green\">**Answer**</span>\n"
   ]
  },
  {
   "cell_type": "markdown",
   "metadata": {},
   "source": [
    "### 1.2 Gender\n",
    "<a id=\"gender\"></a>\n",
    "We are interested in the gender of respondents. Within the STEM fields, there are more males than females or other genders. In 2016 the Office of the chief scientist found that women held only 25% of jobs in STEM. Let's see how that compares to our participants. "
   ]
  },
  {
   "cell_type": "markdown",
   "metadata": {
    "_cell_guid": "4b0c5cbc-a703-4b39-95bd-510f07ece6c0",
    "_uuid": "214cae932a19a586e341914443aa89e62009e6c4"
   },
   "source": [
    " <div class=\"alert alert-block alert-info\">\n",
    "    5. Plot the gender distribution of survey participants."
   ]
  },
  {
   "cell_type": "code",
   "execution_count": 28,
   "metadata": {},
   "outputs": [],
   "source": [
    "# Your code\n"
   ]
  },
  {
   "cell_type": "markdown",
   "metadata": {},
   "source": [
    " <div class=\"alert alert-block alert-info\">\n",
    "    6. Calculate what percentage of respondents were men and what percentage were women.<br>"
   ]
  },
  {
   "cell_type": "code",
   "execution_count": 27,
   "metadata": {},
   "outputs": [],
   "source": [
    "# Your code\n"
   ]
  },
  {
   "cell_type": "markdown",
   "metadata": {},
   "source": [
    "<span style=\"color: green\">**Answer**</span><br>\n"
   ]
  },
  {
   "cell_type": "markdown",
   "metadata": {
    "_cell_guid": "09958a50-ec25-434c-8b46-4582f01c83f5",
    "_kg_hide-input": false,
    "_uuid": "0a34eeb56a96fccf01cf5bdd7da791b136149fe0"
   },
   "source": [
    " <div class=\"alert alert-block alert-info\">\n",
    "    7. Let's see if there is any relationship between age and gender.<br>\n",
    "    Create a box plot showing the age of all the participants according to gender."
   ]
  },
  {
   "cell_type": "code",
   "execution_count": 26,
   "metadata": {},
   "outputs": [],
   "source": [
    "# Your code\n"
   ]
  },
  {
   "cell_type": "markdown",
   "metadata": {},
   "source": [
    " <div class=\"alert alert-block alert-info\">\n",
    "    8. What comments can you make about the relationship between the age and gender of the respondents?<br>\n",
    "\n",
    "*Hint: You need to determine the descriptive statistics.*"
   ]
  },
  {
   "cell_type": "code",
   "execution_count": 25,
   "metadata": {},
   "outputs": [],
   "source": [
    "# Your code\n"
   ]
  },
  {
   "cell_type": "markdown",
   "metadata": {},
   "source": [
    "<span style=\"color: green\">**Answer**</span><br>\n"
   ]
  },
  {
   "cell_type": "markdown",
   "metadata": {},
   "source": [
    "### 1.3 Country\n",
    "<a id=\"country\"></a>\n",
    "We know that people practice IT all over the world. The United States is thought of as a central 'hub' for commercial IT services as well as research followed by the United Kingdom and Germany. \n",
    "\n",
    "Because the field is evolving so quickly, and it may be that these perceptions, formed in the late 2000's are now inaccurate. So let's find out where IT professionals live."
   ]
  },
  {
   "cell_type": "markdown",
   "metadata": {},
   "source": [
    " <div class=\"alert alert-block alert-info\">\n",
    "     9. Create a bar graph of the respondents according to which country they are from.<br>\n",
    "    Find the percentage of respondents from the top 5 countries.<br>\n",
    "    Print your display rounding to two decimal places before writing out your answer.\n"
   ]
  },
  {
   "cell_type": "code",
   "execution_count": 24,
   "metadata": {
    "_cell_guid": "f3da614f-96e2-45d1-ba78-9d08a58fa136",
    "_kg_hide-input": true,
    "_uuid": "34afcf67184929a6de8358a13a961d0b9ad25b6c"
   },
   "outputs": [],
   "source": [
    "# Your code\n"
   ]
  },
  {
   "cell_type": "markdown",
   "metadata": {},
   "source": [
    "<div class=\"alert alert-block alert-info\">\n",
    "10. Find the percentage of respondents from the top 5 countries.<br>\n",
    "    Print your display rounding to two decimal places before writing out your answer."
   ]
  },
  {
   "cell_type": "code",
   "execution_count": 1,
   "metadata": {},
   "outputs": [],
   "source": [
    "# Your code\n"
   ]
  },
  {
   "cell_type": "markdown",
   "metadata": {},
   "source": [
    "<span style=\"color: green\">**Answer**</span>\n",
    " "
   ]
  },
  {
   "cell_type": "markdown",
   "metadata": {},
   "source": [
    " <div class=\"alert alert-block alert-warning\">\n",
    "    11. What comments can you make about the United States, the United Kingdom and Germany? Are\n",
    "    these results consistent with what you expected?<br>\n",
    "    Explain why."
   ]
  },
  {
   "cell_type": "markdown",
   "metadata": {},
   "source": [
    "<span style=\"color: green\">**Answer**</span>\n"
   ]
  },
  {
   "cell_type": "markdown",
   "metadata": {},
   "source": [
    " <div class=\"alert alert-block alert-info\">\n",
    "    12. Now that we have another demographic variable let's see if there is any relationship between country, age\n",
    "    and gender. We are specifically interested in the top 5 countries.<br>\n",
    "    Calculate the mean, median and count for the ages of each gender for each of these countries.<br>\n",
    "\n",
    "*Hint: You may need to create a copy or slice.*"
   ]
  },
  {
   "cell_type": "code",
   "execution_count": 2,
   "metadata": {},
   "outputs": [],
   "source": [
    "# Your Code\n"
   ]
  },
  {
   "cell_type": "markdown",
   "metadata": {},
   "source": [
    " <div class=\"alert alert-block alert-warning\">\n",
    "    13. What Pattern do you notice about the relationship between age, gender for each of these countries? (if any)."
   ]
  },
  {
   "cell_type": "markdown",
   "metadata": {},
   "source": [
    "<span style=\"color: green\">**Answer**</span>\n"
   ]
  },
  {
   "cell_type": "markdown",
   "metadata": {},
   "source": [
    "### 1.4 Roles\n",
    "<a id=\"roles\"></a>\n",
    "Now let's investigate the different roles assumed by IT professionals and how they are distributed. Since we are specifically interested in data science, we will also create a flag for each of the participants to indicate whether his/her role is data-science related. "
   ]
  },
  {
   "cell_type": "markdown",
   "metadata": {},
   "source": [
    " <div class=\"alert alert-block alert-info\">\n",
    "    14. Plot a bar graph depicting the counts of different roles (each bar should represent the count of participants\n",
    "    assuming a certain job role)."
   ]
  },
  {
   "cell_type": "code",
   "execution_count": 32,
   "metadata": {},
   "outputs": [],
   "source": [
    "# Your code\n"
   ]
  },
  {
   "cell_type": "markdown",
   "metadata": {},
   "source": [
    " <div class=\"alert alert-block alert-warning\">\n",
    "    15. What is the percentage of Data Scientists among the survey respondents?\n"
   ]
  },
  {
   "cell_type": "code",
   "execution_count": 3,
   "metadata": {},
   "outputs": [],
   "source": [
    "# Your code\n"
   ]
  },
  {
   "cell_type": "markdown",
   "metadata": {},
   "source": [
    "<span style=\"color: green\">**Answer**</span>\n"
   ]
  },
  {
   "cell_type": "markdown",
   "metadata": {},
   "source": [
    " <div class=\"alert alert-block alert-info\">\n",
    "   16. Data Scientists usually work closely with specific functions in organisations. Data Analysts and Data Engineers are among the top collaborators with Data Scientists. Since our analysis will now focus on data science roles.<br>\n",
    "\n",
    "Create a boolean column \"DataScienceRelated\" which holds if a participant has a job title among \"Data Scientist, Data Analyst or Data Engineer.\""
   ]
  },
  {
   "cell_type": "code",
   "execution_count": 25,
   "metadata": {},
   "outputs": [],
   "source": [
    "# Your code\n"
   ]
  },
  {
   "cell_type": "markdown",
   "metadata": {},
   "source": [
    " <div class=\"alert alert-block alert-warning\">\n",
    "    17. What is the percentage of Data Science related roles among the survey participants?\n"
   ]
  },
  {
   "cell_type": "code",
   "execution_count": 23,
   "metadata": {},
   "outputs": [],
   "source": [
    "# Your code\n"
   ]
  },
  {
   "cell_type": "markdown",
   "metadata": {},
   "source": [
    "<span style=\"color: green\">**Answer**</span><br>\n"
   ]
  },
  {
   "cell_type": "markdown",
   "metadata": {
    "_cell_guid": "3e161447-2816-45ec-872f-3a20da79c042",
    "_uuid": "d6bdc03f0c63a08754efc13378661dc986d2bcb8"
   },
   "source": [
    "## 2. Education\n",
    "<a id=\"education\"></a>\n",
    "***\n",
    "So far, we have seen that there may be some relationships between age, gender and the country that the respondents are from.  Next, we should look at what their education is like. \n",
    "\n",
    "### 2.1 Formal education\n",
    "<a id=\"formal\"></a>\n",
    "\n",
    "We saw in a recent activity that a significant number of data scientists job advertisements call for a masters degree or a PhD. Let's see if this is a reasonable ask based on the respondent's formal education. "
   ]
  },
  {
   "cell_type": "markdown",
   "metadata": {},
   "source": [
    " <div class=\"alert alert-block alert-info\">\n",
    "    1. Plot a bar chart showing the percentage of each type of education for the three data science related roles.<br> \n",
    "    \n",
    "*Hint: You should appropriately label your axes with a legend and a title*"
   ]
  },
  {
   "cell_type": "code",
   "execution_count": 4,
   "metadata": {},
   "outputs": [],
   "source": [
    "# Your code\n"
   ]
  },
  {
   "cell_type": "markdown",
   "metadata": {},
   "source": [
    " <div class=\"alert alert-block alert-warning\">\n",
    "    2. Based on what you have seen, do you think that a Master's or Doctoral degree is too unrealistic for job advertisers looking for someone with data science skills or is it job-dependent?\n",
    "<br>"
   ]
  },
  {
   "cell_type": "markdown",
   "metadata": {
    "collapsed": true
   },
   "source": [
    "<span style=\"color: green\">**Answer**</span>\n"
   ]
  },
  {
   "cell_type": "markdown",
   "metadata": {},
   "source": [
    "<div class=\"alert alert-block alert-info\">\n",
    "    3. Let's see if the trend is reflected in the Australian respondents.<br>\n",
    "    Plot a bar chart like above but only for Australia, and display the counts of the number of Australian\n",
    "    respondents holding a Doctoral degree for each of the three job roles as text output."
   ]
  },
  {
   "cell_type": "code",
   "execution_count": 5,
   "metadata": {},
   "outputs": [],
   "source": [
    "# Your code\n"
   ]
  },
  {
   "cell_type": "markdown",
   "metadata": {},
   "source": [
    " <div class=\"alert alert-block alert-info\">\n",
    "    4. Display as text output the mean and median age of ALL respondents according to each degree type."
   ]
  },
  {
   "cell_type": "code",
   "execution_count": 6,
   "metadata": {},
   "outputs": [],
   "source": [
    "# Your code\n"
   ]
  },
  {
   "cell_type": "markdown",
   "metadata": {
    "_cell_guid": "d6b6ad94-84dd-4c53-b4cc-0b5a72303f56",
    "_uuid": "b66038723fc475c1a3e878da5adc2c73367a5f8e"
   },
   "source": [
    "## 3. Employment\n",
    "<a id=\"employment\"></a>\n",
    "***\n",
    "Many of you will be seeking work after your degree. Let's have a look at the state of the employment market for the respondents of the survey. \n",
    "\n",
    "Let's have a look at the data. "
   ]
  },
  {
   "cell_type": "markdown",
   "metadata": {},
   "source": [
    "\n",
    "### 3.1 Employment status\n",
    "<a id=\"status\"></a>\n",
    "The type of employment will affect the salary of a worker. Those employed part-time will likely earn less than those who work full time. "
   ]
  },
  {
   "cell_type": "markdown",
   "metadata": {},
   "source": [
    " <div class=\"alert alert-block alert-info\">\n",
    " 1. Plot the type of employment the respondents have on a bar chart for respondents who do not assume data science related roles."
   ]
  },
  {
   "cell_type": "code",
   "execution_count": 7,
   "metadata": {},
   "outputs": [],
   "source": [
    "# Your code\n"
   ]
  },
  {
   "cell_type": "markdown",
   "metadata": {},
   "source": [
    " <div class=\"alert alert-block alert-info\">\n",
    "    2. Now plot the type of employment the respondents have on a bar chart only for those assuming data science related roles"
   ]
  },
  {
   "cell_type": "code",
   "execution_count": 8,
   "metadata": {},
   "outputs": [],
   "source": [
    "# Your code\n"
   ]
  },
  {
   "cell_type": "markdown",
   "metadata": {},
   "source": [
    " <div class=\"alert alert-block alert-warning\">\n",
    "    3. Comparing the two graphs, would you say that the data science roles differ in the type of employment as opposed to non-data science roles?\n",
    "\n",
    "Explain your answers."
   ]
  },
  {
   "cell_type": "markdown",
   "metadata": {},
   "source": [
    "<span style=\"color: green\">**Answer**</span>\n"
   ]
  },
  {
   "cell_type": "markdown",
   "metadata": {},
   "source": [
    " <div class=\"alert alert-block alert-info\">\n",
    "    4. Let's investigate whether the type of employment is country dependent.<br>\n",
    "    Print out the percentages of all respondents who are employed full time in Australia, United Kingdom and the\n",
    "    United States."
   ]
  },
  {
   "cell_type": "code",
   "execution_count": 9,
   "metadata": {},
   "outputs": [],
   "source": [
    "# Your code\n"
   ]
  },
  {
   "cell_type": "markdown",
   "metadata": {},
   "source": [
    "Remember earlier, we saw that age seemed to have some interesting characteristics when plotted with other variables. \n",
    "\n",
    "Let's find out the median age of employees by type of employment. "
   ]
  },
  {
   "cell_type": "markdown",
   "metadata": {},
   "source": [
    " <div class=\"alert alert-block alert-info\">\n",
    "    5. Plot a boxplot of the respondents age, grouped by employment type."
   ]
  },
  {
   "cell_type": "code",
   "execution_count": 10,
   "metadata": {},
   "outputs": [],
   "source": [
    "# Your code\n"
   ]
  },
  {
   "cell_type": "markdown",
   "metadata": {},
   "source": [
    " <div class=\"alert alert-block alert-warning\">\n",
    "    6. What are your observations?"
   ]
  },
  {
   "cell_type": "markdown",
   "metadata": {},
   "source": [
    "<span style=\"color: green\">**Answer**</span>\n"
   ]
  },
  {
   "cell_type": "markdown",
   "metadata": {},
   "source": [
    " <div class=\"alert alert-block alert-info\">\n",
    "    7. You may be wondering if a relevant Computer degree is necessary to\n",
    "    help gain full-time employment after graduation. <br>\n",
    "    Plot the respondents' employment types (for all respondents) for each\n",
    "    of the two categories of \"EducationIsComputerRelated\"."
   ]
  },
  {
   "cell_type": "code",
   "execution_count": 11,
   "metadata": {
    "_cell_guid": "a47536f6-a33f-429b-a16a-c3aec369d7cd",
    "_kg_hide-input": true,
    "_uuid": "6b84c4b06b0155374fdb76abea6b94980546408b"
   },
   "outputs": [],
   "source": [
    "# Your code\n"
   ]
  },
  {
   "cell_type": "markdown",
   "metadata": {},
   "source": [
    " <div class=\"alert alert-block alert-warning\">\n",
    "    8. Looking at the graph, does holding a computer-related degree improves your chances of securing a full-time\n",
    "    job? <br>\n",
    "    Explain your answers."
   ]
  },
  {
   "cell_type": "markdown",
   "metadata": {},
   "source": [
    "<span style=\"color: green\">**Answer**</span>\n"
   ]
  },
  {
   "cell_type": "markdown",
   "metadata": {},
   "source": [
    "\n",
    "### 3.2 Job Satisfaction\n",
    "<a id=\"satisfaction\"></a>\n",
    "Let's now investigate how happy IT professionals are about their jobs. It is also relevant to look at the years of experience to see whether the job gets boring after a while."
   ]
  },
  {
   "cell_type": "markdown",
   "metadata": {},
   "source": [
    " <div class=\"alert alert-block alert-info\">\n",
    "9. Create a bar chart for the percentage of respondents who are looking for another job grouped by the different job titles."
   ]
  },
  {
   "cell_type": "code",
   "execution_count": 12,
   "metadata": {},
   "outputs": [],
   "source": [
    "# Your code\n"
   ]
  },
  {
   "cell_type": "markdown",
   "metadata": {},
   "source": [
    " <div class=\"alert alert-block alert-warning\">\n",
    "    10. What are the two roles that have the highest and lowest percentage of employees looking for other jobs?"
   ]
  },
  {
   "cell_type": "markdown",
   "metadata": {},
   "source": [
    "<span style=\"color: green\">**Answer**</span>\n"
   ]
  },
  {
   "cell_type": "markdown",
   "metadata": {},
   "source": [
    " <div class=\"alert alert-block alert-info\">\n",
    "    11. Let's focus on data science-related roles. Plot a box plot depicting the distribution of years-of-experience of those respondents who are looking for another job versus those who are not for each of the three roles."
   ]
  },
  {
   "cell_type": "code",
   "execution_count": 13,
   "metadata": {},
   "outputs": [],
   "source": [
    "# Your code\n"
   ]
  },
  {
   "cell_type": "markdown",
   "metadata": {},
   "source": [
    " <div class=\"alert alert-block alert-warning\">\n",
    "    12. What can you say about the years of experience as to whether it impacts happiness?"
   ]
  },
  {
   "cell_type": "markdown",
   "metadata": {},
   "source": [
    "<span style=\"color: green\">**Answer**</span>\n"
   ]
  },
  {
   "cell_type": "markdown",
   "metadata": {
    "_cell_guid": "551f7dba-71d3-4f77-8852-fce4f789d644",
    "_uuid": "31449fb18bfea68bb723b010b78dcab6c8fe5439"
   },
   "source": [
    "## 4. Salary\n",
    "<a id=\"salary\"></a>\n",
    "\n",
    "Data science is considered a very well paying role and was named 'best job of the year' for 2019. \n",
    "\n",
    "We would like to investigate in this section the different salary ranges for the different job roles in the IT industry and compare it to those of Data Science roles. "
   ]
  },
  {
   "cell_type": "markdown",
   "metadata": {},
   "source": [
    "### 4.1 Salary overview\n",
    "<a id=\"overview\"></a>\n",
    "Note that the salaries given in the dataset is in USD. If we are to investigate the salaries in AUD, we need to consider the currency conversion. \n",
    "\n",
    "You can use the following rate of conversion:\n",
    "\n",
    "`1 USD = 1.47 AUD` \n",
    "\n",
    "Let's have a look at the data. "
   ]
  },
  {
   "cell_type": "markdown",
   "metadata": {},
   "source": [
    " <div class=\"alert alert-block alert-info\">\n",
    "    1. Create a derived column \"SalaryAUD\" containing the converted salary data into Australian Dollars (AUD).<br>\n",
    "    Print out the maximum and median salary in AUD for each of the job roles in our dataset. "
   ]
  },
  {
   "cell_type": "code",
   "execution_count": 14,
   "metadata": {},
   "outputs": [],
   "source": [
    "# Your code\n"
   ]
  },
  {
   "cell_type": "markdown",
   "metadata": {},
   "source": [
    " <div class=\"alert alert-block alert-warning\">\n",
    "    2. Do those figures confirm that data scientists are well paid?"
   ]
  },
  {
   "cell_type": "markdown",
   "metadata": {},
   "source": [
    "<span style=\"color: green\">**Answer**</span>\n",
    " "
   ]
  },
  {
   "cell_type": "markdown",
   "metadata": {},
   "source": [
    "### 4.2 Salary by country\n",
    "<a id=\"countrysal\"></a>\n",
    "\n",
    "Since each country has different cost of living and pay indexes, we want to compare these jobs only in Australia."
   ]
  },
  {
   "cell_type": "markdown",
   "metadata": {},
   "source": [
    "<div class=\"alert alert-block alert-info\">\n",
    "    3. Plot boxplot chart of the Australian respondents salary distribution grouped by the different job titles."
   ]
  },
  {
   "cell_type": "code",
   "execution_count": 15,
   "metadata": {},
   "outputs": [],
   "source": [
    "# Your code\n"
   ]
  },
  {
   "cell_type": "markdown",
   "metadata": {},
   "source": [
    " <div class=\"alert alert-block alert-warning\">\n",
    "    4. How are data scientists paid in comparison to other roles in Australia?"
   ]
  },
  {
   "cell_type": "markdown",
   "metadata": {},
   "source": [
    "<span style=\"color: green\">**Answer**</span>\n"
   ]
  },
  {
   "cell_type": "markdown",
   "metadata": {},
   "source": [
    "<div class=\"alert alert-block alert-info\">\n",
    "    5. Australia's salaries look pretty good in general. Is that the case for all other countries?<br>\n",
    "    Plot the salaries of all countries on a bar chart (with error bars).<br>\n",
    "    \n",
    "   *Hint: Consider all job titles and filter for full-time employees only*"
   ]
  },
  {
   "cell_type": "code",
   "execution_count": 16,
   "metadata": {},
   "outputs": [],
   "source": [
    "# Your code\n"
   ]
  },
  {
   "cell_type": "markdown",
   "metadata": {},
   "source": [
    " <div class=\"alert alert-block alert-warning\">\n",
    "    6. What do you notice about the distributions? What do you think is the cause of this?"
   ]
  },
  {
   "cell_type": "markdown",
   "metadata": {},
   "source": [
    "<span style=\"color: green\">**Answer**</span>\n"
   ]
  },
  {
   "cell_type": "markdown",
   "metadata": {
    "_cell_guid": "0b225e5f-aafc-4e2c-8d4c-201e253d1074",
    "_uuid": "99a87fe0b63e8abb7449574f85f2571d68f06c6b"
   },
   "source": [
    "### 4.3 Salary and Gender\n",
    "<a id=\"gender_salary\"></a>\n",
    "The gender pay gap in the tech industry is a big talking point. Let's see if the respondents are noticing the effect."
   ]
  },
  {
   "cell_type": "markdown",
   "metadata": {},
   "source": [
    "<div class=\"alert alert-block alert-info\">\n",
    "    7. Plot the salaries of all respondents grouped by gender on a boxplot."
   ]
  },
  {
   "cell_type": "code",
   "execution_count": 22,
   "metadata": {
    "_cell_guid": "a841024d-daf3-4d35-879a-dd2c3ac94478",
    "_kg_hide-input": true,
    "_uuid": "25b61f0f927c786ebb85bc7ced0b187f03db7c53"
   },
   "outputs": [],
   "source": [
    "# Your code\n"
   ]
  },
  {
   "cell_type": "markdown",
   "metadata": {},
   "source": [
    " <div class=\"alert alert-block alert-warning\">\n",
    "    8. What do you notice about the distributions?\n",
    "\n"
   ]
  },
  {
   "cell_type": "markdown",
   "metadata": {},
   "source": [
    "<span style=\"color: green\">**Answer**</span>\n"
   ]
  },
  {
   "cell_type": "markdown",
   "metadata": {},
   "source": [
    "<div class=\"alert alert-block alert-info\">\n",
    "    9. The salaries may be affected by the country the respondent is from. In Australia, the weekly difference in pay\n",
    "    between men and women is 17.7%, and in the United States it is 26%.<br>\n",
    "    Print the median salaries of Australia, United States and India grouped by gender."
   ]
  },
  {
   "cell_type": "code",
   "execution_count": 17,
   "metadata": {},
   "outputs": [],
   "source": [
    "# Your code\n"
   ]
  },
  {
   "cell_type": "markdown",
   "metadata": {
    "_cell_guid": "e47aea02-e5a2-4a39-832c-4357ba3986a9",
    "_uuid": "20116846f18df89156bbac8005d130aaf3588909"
   },
   "source": [
    "### 4.4 Salary and formal education\n",
    "<a id=\"education_salary\"></a>\n",
    "\n",
    "Is getting your master's really worth it ?\n",
    "Do PhDs get more money?\n",
    "\n",
    "Let's see."
   ]
  },
  {
   "cell_type": "markdown",
   "metadata": {},
   "source": [
    "<div class=\"alert alert-block alert-info\">\n",
    "    10. Plot the salary distribution of all respondants and group by formal education type on a boxplot.\n"
   ]
  },
  {
   "cell_type": "code",
   "execution_count": 33,
   "metadata": {
    "_cell_guid": "273d6151-645f-444d-b5a5-be9b7150cdf0",
    "_kg_hide-input": true,
    "_uuid": "2299a4ed70ff610b3be64787786bee9cde947047"
   },
   "outputs": [],
   "source": [
    "# Your code\n"
   ]
  },
  {
   "cell_type": "markdown",
   "metadata": {},
   "source": [
    " <div class=\"alert alert-block alert-warning\">\n",
    "    11. Is it better to get your Masters or PhD?<br>\n",
    "    Explain your answer."
   ]
  },
  {
   "cell_type": "markdown",
   "metadata": {},
   "source": [
    "<span style=\"color: green\">**Answer**</span>\n"
   ]
  },
  {
   "cell_type": "markdown",
   "metadata": {
    "_cell_guid": "e47aea02-e5a2-4a39-832c-4357ba3986a9",
    "_uuid": "20116846f18df89156bbac8005d130aaf3588909"
   },
   "source": [
    "### 4.5 Salary and Employment Sector\n",
    "<a id=\"sector_salary\"></a>\n",
    "\n",
    "*Do government jobs pay better than private sector?*\n",
    "*Does it differ based on the country?*\n",
    "\n",
    "Let's see."
   ]
  },
  {
   "cell_type": "markdown",
   "metadata": {},
   "source": [
    "<div class=\"alert alert-block alert-info\">\n",
    "    12. Plot a bar chart (with error bars) of the salaries of respondents for each of the employment sectors."
   ]
  },
  {
   "cell_type": "code",
   "execution_count": 18,
   "metadata": {
    "_cell_guid": "273d6151-645f-444d-b5a5-be9b7150cdf0",
    "_kg_hide-input": true,
    "_uuid": "2299a4ed70ff610b3be64787786bee9cde947047"
   },
   "outputs": [],
   "source": [
    "# Your code\n"
   ]
  },
  {
   "cell_type": "markdown",
   "metadata": {},
   "source": [
    " <div class=\"alert alert-block alert-warning\">\n",
    "    13. Which seems to be the highest paying sector overall? <br>\n",
    "    Do you think it would differ based on the country?<br>\n",
    "    Propose a method to find out and explain your answer. "
   ]
  },
  {
   "cell_type": "markdown",
   "metadata": {},
   "source": [
    "<span style=\"color: green\">**Answer**</span>\n"
   ]
  },
  {
   "cell_type": "markdown",
   "metadata": {},
   "source": [
    "## 5. Predicting salary\n",
    "<a id=\"pred\"></a>\n",
    "\n",
    "We have looked at many variables and seen that there are a lot of factors that could affect your salary.  \n",
    "\n",
    "Let's say we wanted to reduce it; one method we could use is a linear regression. This is a basic but powerful model that can give us some insights. Note though, there are more robust ways to predict salary based on categorical variables. But this exercise will give you a taste of predictive modelling."
   ]
  },
  {
   "cell_type": "markdown",
   "metadata": {},
   "source": [
    "<div class=\"alert alert-block alert-info\">\n",
    "    1. Plot the salary and years-of-experience of respondants on a scatterplot."
   ]
  },
  {
   "cell_type": "code",
   "execution_count": 34,
   "metadata": {
    "scrolled": true
   },
   "outputs": [],
   "source": [
    "# Your code\n"
   ]
  },
  {
   "cell_type": "markdown",
   "metadata": {},
   "source": [
    "<div class=\"alert alert-block alert-info\">\n",
    "    2. Let's refine this.<br>\n",
    "    Remove Salary outliers using 2-sigma rule and then create a linear regression between the salary and years-of\n",
    "    experience of full-time respondents.<br>\n",
    "    Plot the linear fit over the scatterplot."
   ]
  },
  {
   "cell_type": "code",
   "execution_count": 19,
   "metadata": {},
   "outputs": [],
   "source": [
    "#Your code\n"
   ]
  },
  {
   "cell_type": "markdown",
   "metadata": {
    "_cell_guid": "0474ebf4-4f5a-48a1-82cf-79f68141bacc",
    "_uuid": "fce3892f4b73acce66a69dbc74f1299ee87572f8"
   },
   "source": [
    " <div class=\"alert alert-block alert-warning\">\n",
    "3. Do You think that this is a good way to predict salaries?\n",
    "\n",
    "Explain your answer."
   ]
  },
  {
   "cell_type": "markdown",
   "metadata": {
    "_cell_guid": "37030be5-a00c-4289-84e2-588d26a71a3a",
    "_uuid": "cbc7a897ef5e01a7bc743c453427b21243b85436"
   },
   "source": [
    "<span style=\"color: green\">**Answer**</span>\n"
   ]
  },
  {
   "cell_type": "markdown",
   "metadata": {
    "_cell_guid": "551f7dba-71d3-4f77-8852-fce4f789d644",
    "_uuid": "31449fb18bfea68bb723b010b78dcab6c8fe5439"
   },
   "source": [
    "## 6. Tasks and tools\n",
    "<a id=\"tandt\"></a>\n",
    "\n",
    "You might be wondering (or not) what different tasks you will be assigned in a data science role and what kind of tools would you be using the most? \n",
    "\n",
    "In this section, we perform necessary text processing to investigate such aspects."
   ]
  },
  {
   "cell_type": "markdown",
   "metadata": {},
   "source": [
    "### 6.1 Data science common tasks\n",
    "<a id=\"DS_tasks\"></a>\n",
    "\n",
    "We focus here on the three data science job roles and investigate the tasks usually carried out in such roles.\n"
   ]
  },
  {
   "cell_type": "markdown",
   "metadata": {},
   "source": [
    " <div class=\"alert alert-block alert-info\">\n",
    "    1. Investigate the 'KindsOfTasksPerformed' column and perform the required text processing to enable you to plot a word cloud depicting the frequency of the different tasks."
   ]
  },
  {
   "cell_type": "code",
   "execution_count": 20,
   "metadata": {},
   "outputs": [],
   "source": [
    "# Your code\n"
   ]
  },
  {
   "cell_type": "markdown",
   "metadata": {},
   "source": [
    "### 6.2 Data Science Common Tools\n",
    "<a id=\"DS_tools\"></a>\n",
    "\n",
    "Now we compare the skillset required by data science roles and other IT roles."
   ]
  },
  {
   "cell_type": "markdown",
   "metadata": {},
   "source": [
    "<div class=\"alert alert-block alert-info\">\n",
    "    2. Filter your respondents based on DataScienceRelated flag and plot two seperate bar charts depicting the tools used by\n",
    "    data science roles versus other roles.<br>\n",
    "    \n",
    "   *Hint: You will need to do similar text processing to the previous task.*"
   ]
  },
  {
   "cell_type": "code",
   "execution_count": 21,
   "metadata": {},
   "outputs": [],
   "source": [
    "# Your code\n"
   ]
  },
  {
   "cell_type": "markdown",
   "metadata": {},
   "source": [
    " <div class=\"alert alert-block alert-warning\">\n",
    "    3. What do you think are the most commonly used tools for a data science role?"
   ]
  },
  {
   "cell_type": "markdown",
   "metadata": {},
   "source": [
    "<span style=\"color: green\">**Answer**</span>\n"
   ]
  },
  {
   "cell_type": "markdown",
   "metadata": {},
   "source": [
    "## 7. Data quality assessment\n",
    "<a id=\"trash\"></a>"
   ]
  },
  {
   "cell_type": "markdown",
   "metadata": {},
   "source": [
    "' Garbage in, garbage out'. \n",
    "\n",
    "The saying means that poor quality data will return unreliable and often conflicting results. In this task, you need to assess your data set critically and understand not just what its use means for the outcome of your analysis, but also how those insights inform decisions which lead to broader effects. "
   ]
  },
  {
   "cell_type": "markdown",
   "metadata": {},
   "source": [
    " <div class=\"alert alert-block alert-warning\">\n",
    " 1. Now that you have analysed the data. Go into the data set file and determine two anomalies. These could be parts of the data that don't seem quite right or logically can't co-exist. Write a paragraph about these explaining what part of your analysis alerted you to them, why they are anomalies, why they may exist, and what could be done to fix them. "
   ]
  },
  {
   "cell_type": "markdown",
   "metadata": {},
   "source": [
    "<span style=\"color: green\">**Answer**</span>\n"
   ]
  },
  {
   "cell_type": "markdown",
   "metadata": {},
   "source": [
    "### Well done! You have completed the assignment!\n",
    "\n",
    "For reassurance, the Australian 2019 Graduate Outcomes Survey found the median salary for Masters graduates in Computer Science and Information Systems for was AUD 92,900 for full-time employment."
   ]
  }
 ],
 "metadata": {
  "kernelspec": {
   "display_name": "Python 3",
   "language": "python",
   "name": "python3"
  },
  "language_info": {
   "codemirror_mode": {
    "name": "ipython",
    "version": 3
   },
   "file_extension": ".py",
   "mimetype": "text/x-python",
   "name": "python",
   "nbconvert_exporter": "python",
   "pygments_lexer": "ipython3",
   "version": "3.7.3"
  }
 },
 "nbformat": 4,
 "nbformat_minor": 1
}
